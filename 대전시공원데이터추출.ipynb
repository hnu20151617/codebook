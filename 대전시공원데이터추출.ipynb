{
 "cells": [
  {
   "cell_type": "code",
   "execution_count": 5,
   "metadata": {},
   "outputs": [],
   "source": [
    "import pandas as pd\n",
    "import geopandas as gpd\n",
    "import json\n",
    "from shapely.geometry import Point, Polygon, LineString"
   ]
  },
  {
   "cell_type": "markdown",
   "metadata": {},
   "source": [
    "https://www.data.go.kr/tcs/dss/selectStdDataDetailView.do\n",
    "공공데이터포털 전국도시공원정보표준데이터 csv파일로 다운로드"
   ]
  },
  {
   "cell_type": "code",
   "execution_count": 14,
   "metadata": {},
   "outputs": [],
   "source": [
    "park = pd.read_csv('전국도시공원정보표준데이터.csv', encoding='cp949')"
   ]
  },
  {
   "cell_type": "code",
   "execution_count": 50,
   "metadata": {
    "collapsed": true
   },
   "outputs": [
    {
     "data": {
      "text/html": [
       "<div>\n",
       "<style scoped>\n",
       "    .dataframe tbody tr th:only-of-type {\n",
       "        vertical-align: middle;\n",
       "    }\n",
       "\n",
       "    .dataframe tbody tr th {\n",
       "        vertical-align: top;\n",
       "    }\n",
       "\n",
       "    .dataframe thead th {\n",
       "        text-align: right;\n",
       "    }\n",
       "</style>\n",
       "<table border=\"1\" class=\"dataframe\">\n",
       "  <thead>\n",
       "    <tr style=\"text-align: right;\">\n",
       "      <th></th>\n",
       "      <th>관리번호</th>\n",
       "      <th>공원명</th>\n",
       "      <th>공원구분</th>\n",
       "      <th>소재지도로명주소</th>\n",
       "      <th>소재지지번주소</th>\n",
       "      <th>위도</th>\n",
       "      <th>경도</th>\n",
       "      <th>공원면적</th>\n",
       "      <th>공원보유시설(운동시설)</th>\n",
       "      <th>공원보유시설(유희시설)</th>\n",
       "      <th>공원보유시설(편익시설)</th>\n",
       "      <th>공원보유시설(교양시설)</th>\n",
       "      <th>공원보유시설(기타시설)</th>\n",
       "      <th>지정고시일</th>\n",
       "      <th>관리기관명</th>\n",
       "      <th>전화번호</th>\n",
       "      <th>데이터기준일자</th>\n",
       "      <th>제공기관코드</th>\n",
       "      <th>제공기관명</th>\n",
       "    </tr>\n",
       "  </thead>\n",
       "  <tbody>\n",
       "    <tr>\n",
       "      <th>0</th>\n",
       "      <td>48250-00039</td>\n",
       "      <td>달래공원</td>\n",
       "      <td>어린이공원</td>\n",
       "      <td>경상남도 김해시 월산로 119</td>\n",
       "      <td>경상남도 김해시 부곡동 803-4</td>\n",
       "      <td>35.204857</td>\n",
       "      <td>128.800645</td>\n",
       "      <td>1990.0</td>\n",
       "      <td>NaN</td>\n",
       "      <td>조합놀이대</td>\n",
       "      <td>NaN</td>\n",
       "      <td>NaN</td>\n",
       "      <td>NaN</td>\n",
       "      <td>1998-12-23</td>\n",
       "      <td>경상남도 김해시청</td>\n",
       "      <td>055-330-6989</td>\n",
       "      <td>2020-12-17</td>\n",
       "      <td>5350000</td>\n",
       "      <td>경상남도 김해시</td>\n",
       "    </tr>\n",
       "    <tr>\n",
       "      <th>1</th>\n",
       "      <td>48250-00041</td>\n",
       "      <td>대동공원</td>\n",
       "      <td>근린공원</td>\n",
       "      <td>경상남도 김해시 활천로285번길 14</td>\n",
       "      <td>경상남도 김해시 삼방동 192</td>\n",
       "      <td>35.244564</td>\n",
       "      <td>128.910443</td>\n",
       "      <td>10362.0</td>\n",
       "      <td>NaN</td>\n",
       "      <td>NaN</td>\n",
       "      <td>NaN</td>\n",
       "      <td>NaN</td>\n",
       "      <td>NaN</td>\n",
       "      <td>1990-12-14</td>\n",
       "      <td>경상남도 김해시청</td>\n",
       "      <td>055-330-4414</td>\n",
       "      <td>2020-12-17</td>\n",
       "      <td>5350000</td>\n",
       "      <td>경상남도 김해시</td>\n",
       "    </tr>\n",
       "  </tbody>\n",
       "</table>\n",
       "</div>"
      ],
      "text/plain": [
       "          관리번호   공원명   공원구분              소재지도로명주소             소재지지번주소  \\\n",
       "0  48250-00039  달래공원  어린이공원      경상남도 김해시 월산로 119  경상남도 김해시 부곡동 803-4   \n",
       "1  48250-00041  대동공원   근린공원  경상남도 김해시 활천로285번길 14    경상남도 김해시 삼방동 192   \n",
       "\n",
       "          위도          경도     공원면적 공원보유시설(운동시설) 공원보유시설(유희시설) 공원보유시설(편익시설)  \\\n",
       "0  35.204857  128.800645   1990.0          NaN        조합놀이대          NaN   \n",
       "1  35.244564  128.910443  10362.0          NaN          NaN          NaN   \n",
       "\n",
       "  공원보유시설(교양시설) 공원보유시설(기타시설)       지정고시일      관리기관명          전화번호     데이터기준일자  \\\n",
       "0          NaN          NaN  1998-12-23  경상남도 김해시청  055-330-6989  2020-12-17   \n",
       "1          NaN          NaN  1990-12-14  경상남도 김해시청  055-330-4414  2020-12-17   \n",
       "\n",
       "    제공기관코드     제공기관명  \n",
       "0  5350000  경상남도 김해시  \n",
       "1  5350000  경상남도 김해시  "
      ]
     },
     "execution_count": 50,
     "metadata": {},
     "output_type": "execute_result"
    }
   ],
   "source": [
    "park.head(2)"
   ]
  },
  {
   "cell_type": "code",
   "execution_count": 113,
   "metadata": {},
   "outputs": [],
   "source": [
    "code = ['3640000', '3650000', '3660000', '3670000', '3680000']\n",
    "df = pd.DataFrame()\n",
    "for i in code:\n",
    "    park_daejeon = park[park['제공기관코드']==i]\n",
    "    df = pd.concat([df,park_daejeon])"
   ]
  },
  {
   "cell_type": "code",
   "execution_count": 92,
   "metadata": {},
   "outputs": [
    {
     "name": "stdout",
     "output_type": "stream",
     "text": [
      "<class 'pandas.core.frame.DataFrame'>\n",
      "Int64Index: 498 entries, 9783 to 7845\n",
      "Data columns (total 19 columns):\n",
      " #   Column        Non-Null Count  Dtype  \n",
      "---  ------        --------------  -----  \n",
      " 0   관리번호          498 non-null    object \n",
      " 1   공원명           498 non-null    object \n",
      " 2   공원구분          498 non-null    object \n",
      " 3   소재지도로명주소      227 non-null    object \n",
      " 4   소재지지번주소       498 non-null    object \n",
      " 5   위도            497 non-null    float64\n",
      " 6   경도            498 non-null    float64\n",
      " 7   공원면적          498 non-null    float64\n",
      " 8   공원보유시설(운동시설)  278 non-null    object \n",
      " 9   공원보유시설(유희시설)  222 non-null    object \n",
      " 10  공원보유시설(편익시설)  264 non-null    object \n",
      " 11  공원보유시설(교양시설)  130 non-null    object \n",
      " 12  공원보유시설(기타시설)  104 non-null    object \n",
      " 13  지정고시일         307 non-null    object \n",
      " 14  관리기관명         498 non-null    object \n",
      " 15  전화번호          498 non-null    object \n",
      " 16  데이터기준일자       498 non-null    object \n",
      " 17  제공기관코드        498 non-null    object \n",
      " 18  제공기관명         498 non-null    object \n",
      "dtypes: float64(3), object(16)\n",
      "memory usage: 77.8+ KB\n"
     ]
    }
   ],
   "source": [
    "df.info()"
   ]
  },
  {
   "cell_type": "code",
   "execution_count": 114,
   "metadata": {},
   "outputs": [
    {
     "data": {
      "text/html": [
       "<div>\n",
       "<style scoped>\n",
       "    .dataframe tbody tr th:only-of-type {\n",
       "        vertical-align: middle;\n",
       "    }\n",
       "\n",
       "    .dataframe tbody tr th {\n",
       "        vertical-align: top;\n",
       "    }\n",
       "\n",
       "    .dataframe thead th {\n",
       "        text-align: right;\n",
       "    }\n",
       "</style>\n",
       "<table border=\"1\" class=\"dataframe\">\n",
       "  <thead>\n",
       "    <tr style=\"text-align: right;\">\n",
       "      <th></th>\n",
       "      <th>관리번호</th>\n",
       "      <th>공원명</th>\n",
       "      <th>공원구분</th>\n",
       "      <th>소재지도로명주소</th>\n",
       "      <th>소재지지번주소</th>\n",
       "      <th>위도</th>\n",
       "      <th>경도</th>\n",
       "      <th>공원면적</th>\n",
       "      <th>공원보유시설(운동시설)</th>\n",
       "      <th>공원보유시설(유희시설)</th>\n",
       "      <th>공원보유시설(편익시설)</th>\n",
       "      <th>공원보유시설(교양시설)</th>\n",
       "      <th>공원보유시설(기타시설)</th>\n",
       "      <th>지정고시일</th>\n",
       "      <th>관리기관명</th>\n",
       "      <th>전화번호</th>\n",
       "      <th>데이터기준일자</th>\n",
       "      <th>제공기관코드</th>\n",
       "      <th>제공기관명</th>\n",
       "    </tr>\n",
       "  </thead>\n",
       "  <tbody>\n",
       "    <tr>\n",
       "      <th>9783</th>\n",
       "      <td>30110-00033</td>\n",
       "      <td>낭월7호공원</td>\n",
       "      <td>어린이공원</td>\n",
       "      <td>NaN</td>\n",
       "      <td>대전광역시 동구 낭월동 492</td>\n",
       "      <td>36.278667</td>\n",
       "      <td>127.464941</td>\n",
       "      <td>5287.9</td>\n",
       "      <td>스트레칭롤라, 롤링웨이스트, 트윈트위스트, 풀웨이트, 크로스컨트리</td>\n",
       "      <td>조합놀이대</td>\n",
       "      <td>파고라,음수대</td>\n",
       "      <td>NaN</td>\n",
       "      <td>NaN</td>\n",
       "      <td>2004-04-29</td>\n",
       "      <td>대전광역시 동구청</td>\n",
       "      <td>042-251-4755</td>\n",
       "      <td>2019-09-23</td>\n",
       "      <td>3640000</td>\n",
       "      <td>대전광역시 동구</td>\n",
       "    </tr>\n",
       "  </tbody>\n",
       "</table>\n",
       "</div>"
      ],
      "text/plain": [
       "             관리번호     공원명   공원구분 소재지도로명주소           소재지지번주소         위도  \\\n",
       "9783  30110-00033  낭월7호공원  어린이공원      NaN  대전광역시 동구 낭월동 492  36.278667   \n",
       "\n",
       "              경도    공원면적                          공원보유시설(운동시설) 공원보유시설(유희시설)  \\\n",
       "9783  127.464941  5287.9  스트레칭롤라, 롤링웨이스트, 트윈트위스트, 풀웨이트, 크로스컨트리        조합놀이대   \n",
       "\n",
       "     공원보유시설(편익시설) 공원보유시설(교양시설) 공원보유시설(기타시설)       지정고시일      관리기관명  \\\n",
       "9783      파고라,음수대          NaN          NaN  2004-04-29  대전광역시 동구청   \n",
       "\n",
       "              전화번호     데이터기준일자   제공기관코드     제공기관명  \n",
       "9783  042-251-4755  2019-09-23  3640000  대전광역시 동구  "
      ]
     },
     "execution_count": 114,
     "metadata": {},
     "output_type": "execute_result"
    }
   ],
   "source": [
    "df.head(1)"
   ]
  },
  {
   "cell_type": "code",
   "execution_count": 116,
   "metadata": {},
   "outputs": [],
   "source": [
    "# 관리번호 = num, 공원명 = name, 공원구분 = type, 소재지도로명주소 = r_address, 소재지지번주소 = l_address\n",
    "# 위도 = lat, 경도 = lon, 공원면적 = p_area, 공원보유시설(운동시설) = e_facility, 공원보유시설(유희시설) = f_facility\n",
    "# 공원보유시설(편익시설) = c_facility, 공원보유시설(교양시설) = r_facility, 공원보유시설(기타시설) = etc, 지정고시일 = p_date \n",
    "# 관리기관명 = m_agency, 전화번호 = p_num, 데이터기준일자 = s_date, 제공기관코드 = prov_code, 제공기관명 = prov_name\n",
    "\n",
    "df.columns = ['num', 'name', 'type', 'r_address', 'l_address', 'lat', 'lon', 'p_area', 'e_facility', 'f_facility','c_facility',\n",
    "              'r_facility', 'etc', 'p_date', 'm_agency', 'p_num', 's_date', 'prov_code', 'prov_name']\n"
   ]
  },
  {
   "cell_type": "markdown",
   "metadata": {},
   "source": [
    "https://yganalyst.github.io/spatial_analysis/spatial_analysis_2/ 사이트의 lon, lat to geometry 참고"
   ]
  },
  {
   "cell_type": "code",
   "execution_count": 119,
   "metadata": {},
   "outputs": [],
   "source": [
    "df['geometry'] = df.apply(lambda row : Point([row['lon'], row['lat']]), axis=1)\n",
    "df = gpd.GeoDataFrame(df, geometry='geometry')"
   ]
  },
  {
   "cell_type": "code",
   "execution_count": 120,
   "metadata": {},
   "outputs": [
    {
     "data": {
      "text/plain": [
       "9783    POINT (127.46494 36.27867)\n",
       "9784    POINT (127.47015 36.27837)\n",
       "9785    POINT (127.44920 36.33653)\n",
       "9786    POINT (127.46921 36.26946)\n",
       "9787    POINT (127.46722 36.27525)\n",
       "                   ...            \n",
       "7841    POINT (127.43430 36.36428)\n",
       "7842    POINT (127.42719 36.36822)\n",
       "7843    POINT (127.39791 36.44300)\n",
       "7844    POINT (127.40305 36.44804)\n",
       "7845    POINT (127.43359 36.37070)\n",
       "Name: geometry, Length: 498, dtype: geometry"
      ]
     },
     "execution_count": 120,
     "metadata": {},
     "output_type": "execute_result"
    }
   ],
   "source": [
    "df['geometry']"
   ]
  },
  {
   "cell_type": "code",
   "execution_count": 122,
   "metadata": {},
   "outputs": [],
   "source": [
    "df_geojson = gpd.GeoDataFrame(df)\n",
    "df_geojson.to_file('park_daejeon.geojson', driver='GeoJSON')"
   ]
  }
 ],
 "metadata": {
  "kernelspec": {
   "display_name": "Python 3",
   "language": "python",
   "name": "python3"
  },
  "language_info": {
   "codemirror_mode": {
    "name": "ipython",
    "version": 3
   },
   "file_extension": ".py",
   "mimetype": "text/x-python",
   "name": "python",
   "nbconvert_exporter": "python",
   "pygments_lexer": "ipython3",
   "version": "3.8.5"
  }
 },
 "nbformat": 4,
 "nbformat_minor": 4
}
