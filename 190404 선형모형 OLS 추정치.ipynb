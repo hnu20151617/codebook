{
 "cells": [
  {
   "cell_type": "code",
   "execution_count": 2,
   "metadata": {},
   "outputs": [
    {
     "data": {
      "text/plain": [
       "array([1212.00053826,  -28.99139329,    3.91578355])"
      ]
     },
     "execution_count": 2,
     "metadata": {},
     "output_type": "execute_result"
    }
   ],
   "source": [
    "import pandas as pd\n",
    "import numpy as np\n",
    "import scipy.linalg as la\n",
    "url='http://wolfpack.hnu.ac.kr/Stat_Notes/adv_stat/LinearModel/data/SMSA.csv'\n",
    "smsa=pd.read_csv(url)\n",
    "y=np.asarray(smsa.loc[:,'Mortality'])\n",
    "x=np.asarray(smsa.iloc[:,[6,8]])\n",
    "one=np.array(np.repeat(1,y.size))\n",
    "X=np.column_stack((one,x))\n",
    "la.inv(X.T@X)@X.T@y"
   ]
  },
  {
   "cell_type": "code",
   "execution_count": 3,
   "metadata": {},
   "outputs": [
    {
     "data": {
      "text/plain": [
       "array([1212.00053826,  -28.99139329,    3.91578355])"
      ]
     },
     "execution_count": 3,
     "metadata": {},
     "output_type": "execute_result"
    }
   ],
   "source": [
    "import pandas as pd\n",
    "import numpy as np\n",
    "import scipy.linalg as la\n",
    "url='http://wolfpack.hnu.ac.kr/Stat_Notes/adv_stat/LinearModel/data/SMSA.csv'\n",
    "smsa=pd.read_csv(url)\n",
    "y=np.asarray(smsa.loc[:,'Mortality'])\n",
    "x=np.asarray(smsa.iloc[:,[6,8]])\n",
    "one=np.array(np.repeat(1,y.size))\n",
    "X=np.column_stack((one,x))\n",
    "la.inv(X.T@X)@X.T@y"
   ]
  },
  {
   "cell_type": "code",
   "execution_count": 4,
   "metadata": {},
   "outputs": [],
   "source": [
    "import pandas as pd\n",
    "import numpy as np\n",
    "import scipy.linalg as la\n",
    "url='http://wolfpack.hnu.ac.kr/Stat_Notes/adv_stat/LinearModel/data/SMSA.csv'\n",
    "smsa=pd.read_csv(url)\n",
    "y=np.asarray(smsa.loc[:,'Mortality'])\n",
    "x=np.asarray[smsa.iloc[:,[6,8]]]\n",
    "one=np.array[np.repeat(1,y.size)]\n",
    "X=np.column_stack((one,x))\n",
    "la.inv(X.T@X)@X.T@y"
   ]
  },
  {
   "cell_type": "code",
   "execution_count": 6,
   "metadata": {
    "scrolled": true
   },
   "outputs": [
    {
     "data": {
      "text/plain": [
       "['city',\n",
       " 'Mortality',\n",
       " 'JanTemp',\n",
       " 'JulyTemp',\n",
       " 'RelHum',\n",
       " 'Rain',\n",
       " 'Education',\n",
       " 'PopDensity',\n",
       " 'NonWhite',\n",
       " 'WC',\n",
       " 'pop/house',\n",
       " 'income',\n",
       " 'HCPot',\n",
       " 'NOxPot',\n",
       " 'S02Pot']"
      ]
     },
     "execution_count": 6,
     "metadata": {},
     "output_type": "execute_result"
    }
   ],
   "source": [
    "list(smsa)"
   ]
  },
  {
   "cell_type": "code",
   "execution_count": 10,
   "metadata": {
    "scrolled": true
   },
   "outputs": [
    {
     "data": {
      "text/plain": [
       "array([6.18207151e+02, 3.89847048e+00, 5.44172118e-01])"
      ]
     },
     "execution_count": 10,
     "metadata": {},
     "output_type": "execute_result"
    }
   ],
   "source": [
    "x2=np.asarray(smsa.iloc[:,[3,4]])\n",
    "X2=np.column_stack((one,x2))\n",
    "la.inv(X2.T@X2)@X2.T@y"
   ]
  },
  {
   "cell_type": "code",
   "execution_count": null,
   "metadata": {},
   "outputs": [],
   "source": []
  }
 ],
 "metadata": {
  "kernelspec": {
   "display_name": "Python 3",
   "language": "python",
   "name": "python3"
  },
  "language_info": {
   "codemirror_mode": {
    "name": "ipython",
    "version": 3
   },
   "file_extension": ".py",
   "mimetype": "text/x-python",
   "name": "python",
   "nbconvert_exporter": "python",
   "pygments_lexer": "ipython3",
   "version": "3.8.3"
  }
 },
 "nbformat": 4,
 "nbformat_minor": 2
}
